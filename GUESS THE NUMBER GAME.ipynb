{
 "cells": [
  {
   "cell_type": "code",
   "execution_count": 2,
   "id": "7c4b8ff0",
   "metadata": {},
   "outputs": [
    {
     "name": "stdout",
     "output_type": "stream",
     "text": [
      "I am thinking of a number between 1 and 20\n",
      "please, take your moment to guess.\n",
      "5\n",
      "Your guess is too low\n",
      "please, take your moment to guess.\n",
      "9\n",
      "Your guess is too high pal.\n",
      "please, take your moment to guess.\n",
      "6\n",
      "Your guess is too low\n",
      "please, take your moment to guess.\n",
      "7\n",
      "Your guess is too low\n",
      "please, take your moment to guess.\n",
      "8\n",
      "Good Job! you guessed my number in5guesses!\n"
     ]
    }
   ],
   "source": [
    "#hi, we want to make a simple game with guessing number \n",
    "import random\n",
    "secretNumber=random.randint(1,20)\n",
    "print('I am thinking of a number between 1 and 20')\n",
    "\n",
    "#let's ask the player to guess 6 times\n",
    "for guessesTaken in range (1,7):\n",
    "    print('please, take your moment to guess.')\n",
    "    guess=int(input())\n",
    "    \n",
    "    if guess<secretNumber:\n",
    "        print('Your guess is too low')\n",
    "    elif guess>secretNumber:\n",
    "        print('Your guess is too high pal.')\n",
    "    else:\n",
    "        break  #we break because this condition is the correct guess!\n",
    "        \n",
    "if guess== secretNumber:\n",
    "    print('Good Job! you guessed my number in' + str(guessesTaken)+'guesses!')\n",
    "else:\n",
    "    print('Nope. the number I was thinking of was' + str(secretNumber))"
   ]
  },
  {
   "cell_type": "code",
   "execution_count": null,
   "id": "ab5727e3",
   "metadata": {},
   "outputs": [],
   "source": []
  }
 ],
 "metadata": {
  "kernelspec": {
   "display_name": "Python 3 (ipykernel)",
   "language": "python",
   "name": "python3"
  },
  "language_info": {
   "codemirror_mode": {
    "name": "ipython",
    "version": 3
   },
   "file_extension": ".py",
   "mimetype": "text/x-python",
   "name": "python",
   "nbconvert_exporter": "python",
   "pygments_lexer": "ipython3",
   "version": "3.9.7"
  }
 },
 "nbformat": 4,
 "nbformat_minor": 5
}
